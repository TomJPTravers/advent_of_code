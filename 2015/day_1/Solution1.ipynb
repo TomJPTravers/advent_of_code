{
 "cells": [
  {
   "cell_type": "code",
   "execution_count": 21,
   "id": "ccf4b7dc-51d6-4ed3-8867-b384d55c62aa",
   "metadata": {},
   "outputs": [],
   "source": [
    "data = list(open(\"data.txt\").read())"
   ]
  },
  {
   "cell_type": "code",
   "execution_count": 57,
   "id": "2cbf584e-c30d-42f8-a111-6724f3bffe9d",
   "metadata": {},
   "outputs": [
    {
     "name": "stdout",
     "output_type": "stream",
     "text": [
      "Part 1 Answer: Floor 280\n"
     ]
    }
   ],
   "source": [
    "#Part 1\n",
    "\n",
    "def convert_floor(i):\n",
    "    if i == '(':\n",
    "        return 1\n",
    "    elif i == ')':\n",
    "        return -1\n",
    "    else:\n",
    "        return 0\n",
    "\n",
    "x = [convert_floor(i) for i in data]\n",
    "        \n",
    "print(f'Part 1 Answer: Floor {sum(x)}')"
   ]
  },
  {
   "cell_type": "code",
   "execution_count": 67,
   "id": "94898188-4e64-4a98-b981-fca9ea2d8ac1",
   "metadata": {},
   "outputs": [
    {
     "name": "stdout",
     "output_type": "stream",
     "text": [
      "Floor -1 reached at index 1797\n"
     ]
    }
   ],
   "source": [
    "# Part 2\n",
    "csum = 1\n",
    "for i, v in enumerate(x):\n",
    "    csum += v\n",
    "    if csum == -1:\n",
    "        print(f'Floor -1 reached at index {i}')\n",
    "        break"
   ]
  }
 ],
 "metadata": {
  "kernelspec": {
   "display_name": "advent-of-code",
   "language": "python",
   "name": "aoc"
  },
  "language_info": {
   "codemirror_mode": {
    "name": "ipython",
    "version": 3
   },
   "file_extension": ".py",
   "mimetype": "text/x-python",
   "name": "python",
   "nbconvert_exporter": "python",
   "pygments_lexer": "ipython3",
   "version": "3.9.6"
  }
 },
 "nbformat": 4,
 "nbformat_minor": 5
}
