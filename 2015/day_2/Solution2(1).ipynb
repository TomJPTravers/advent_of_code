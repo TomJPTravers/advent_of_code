{
 "cells": [
  {
   "cell_type": "code",
   "execution_count": 65,
   "id": "33f1beb0-7aef-4d2a-ad5f-dbef31d109ae",
   "metadata": {},
   "outputs": [],
   "source": [
    "df = [list(map(int, l.split('x'))) for l in open('data.txt').read().splitlines()]"
   ]
  },
  {
   "cell_type": "code",
   "execution_count": 66,
   "id": "ef1f02a2-6316-473f-9177-e761474fb9cc",
   "metadata": {},
   "outputs": [],
   "source": [
    "def area_calc(l, w, h):\n",
    "    s = [l*w, w*h, l*h]\n",
    "    m = min(s)\n",
    "    return sum(2*s) + m\n",
    "\n",
    "def ribon_length(l, w, h):\n",
    "    bow = l*w*h\n",
    "    l = [l, w, h]\n",
    "    l.sort()\n",
    "    rib = sum(2*l[:2])\n",
    "    return bow + rib"
   ]
  },
  {
   "cell_type": "code",
   "execution_count": 67,
   "id": "41cdb49c-dce6-4d2b-a6ce-a0ea14c2ea00",
   "metadata": {},
   "outputs": [
    {
     "name": "stdout",
     "output_type": "stream",
     "text": [
      "The area of paper needed is 1588178 sq feet\n"
     ]
    }
   ],
   "source": [
    "# Part 1\n",
    "areas = [area_calc(*i) for i in df]\n",
    "print(f'The area of paper needed is {sum(areas)} sq feet')"
   ]
  },
  {
   "cell_type": "code",
   "execution_count": 62,
   "id": "637ead24-61db-4501-8d36-a3d024239f5a",
   "metadata": {},
   "outputs": [],
   "source": [
    "# Part 2\n",
    "lengths = [ribon_length(*i) for i in df]\n",
    "print(f'The length of ribon needed is {sum(lengths)} feet')"
   ]
  }
 ],
 "metadata": {
  "kernelspec": {
   "display_name": "advent-of-code",
   "language": "python",
   "name": "aoc"
  },
  "language_info": {
   "codemirror_mode": {
    "name": "ipython",
    "version": 3
   },
   "file_extension": ".py",
   "mimetype": "text/x-python",
   "name": "python",
   "nbconvert_exporter": "python",
   "pygments_lexer": "ipython3",
   "version": "3.9.6"
  }
 },
 "nbformat": 4,
 "nbformat_minor": 5
}
