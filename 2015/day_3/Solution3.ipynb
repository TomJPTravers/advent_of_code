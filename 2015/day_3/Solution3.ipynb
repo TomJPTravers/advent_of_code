{
 "cells": [
  {
   "cell_type": "code",
   "execution_count": 9,
   "id": "19b80023-5908-4f7a-a347-26ce8ac46138",
   "metadata": {},
   "outputs": [],
   "source": [
    "from collections import Counter"
   ]
  },
  {
   "cell_type": "code",
   "execution_count": 10,
   "id": "0f088687-13fa-4e88-95fa-491194c04d25",
   "metadata": {},
   "outputs": [],
   "source": [
    "df = list(open('data.text').read())"
   ]
  },
  {
   "cell_type": "code",
   "execution_count": 59,
   "id": "ee1e5b0b-5b51-4b4a-acc6-491f0b610f31",
   "metadata": {},
   "outputs": [],
   "source": [
    "def track_coordinates(directions):\n",
    "    x, y = 0, 0\n",
    "    coords = []\n",
    "    \n",
    "    for direction in directions:\n",
    "        if direction == '>':\n",
    "            x += 1\n",
    "        elif direction == '<':\n",
    "            x -= 1\n",
    "        elif direction == '^':\n",
    "            y += 1\n",
    "        elif direction == 'v':\n",
    "            y -= 1\n",
    "        coords.append(tuple([x, y]))\n",
    "    \n",
    "    return coords"
   ]
  },
  {
   "cell_type": "code",
   "execution_count": 60,
   "id": "ea2e2d86-8b25-4ada-9931-4fb4bc394a37",
   "metadata": {},
   "outputs": [
    {
     "name": "stdout",
     "output_type": "stream",
     "text": [
      "Part 1: Number of houses with at least 1 present = 2565\n"
     ]
    }
   ],
   "source": [
    "# Part 1\n",
    "coords = track_coordinates(df)\n",
    "\n",
    "x = {item for item, count in Counter(coords).items() if count >= 1}\n",
    "print(f'Part 1: Number of houses with at least 1 present = {len(x)}')"
   ]
  },
  {
   "cell_type": "code",
   "execution_count": 61,
   "id": "e788eb22-0b8b-4dde-93fe-c14603a8044c",
   "metadata": {},
   "outputs": [],
   "source": [
    "# Part 2\n",
    "santa_coords = track_coordinates(df[0::2])\n",
    "robo_coords = track_coordinates(df[1::2])\n",
    "\n",
    "coords = santa_coords + robo_coords\n",
    "x = {item for item, count in Counter(coords).items() if count >= 1}\n",
    "print(f'Part 2: Number of houses with at least 1 present = {len(x)}')"
   ]
  }
 ],
 "metadata": {
  "kernelspec": {
   "display_name": "advent-of-code",
   "language": "python",
   "name": "aoc"
  },
  "language_info": {
   "codemirror_mode": {
    "name": "ipython",
    "version": 3
   },
   "file_extension": ".py",
   "mimetype": "text/x-python",
   "name": "python",
   "nbconvert_exporter": "python",
   "pygments_lexer": "ipython3",
   "version": "3.9.6"
  }
 },
 "nbformat": 4,
 "nbformat_minor": 5
}
