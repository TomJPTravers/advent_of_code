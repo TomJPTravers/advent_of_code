{
 "cells": [
  {
   "cell_type": "code",
   "execution_count": 1,
   "id": "82e569f9-d8b4-4d46-b85f-2f49f69adaba",
   "metadata": {},
   "outputs": [],
   "source": [
    "import re"
   ]
  },
  {
   "cell_type": "code",
   "execution_count": 4,
   "id": "d9dcf723-4ed7-4d71-919e-0bb4e3392e85",
   "metadata": {},
   "outputs": [],
   "source": [
    "df = open('input.txt').read().splitlines()"
   ]
  },
  {
   "cell_type": "code",
   "execution_count": 41,
   "id": "3f9e38ab-0cf5-4405-a213-18cab0dc0b76",
   "metadata": {},
   "outputs": [
    {
     "data": {
      "text/plain": [
       "238"
      ]
     },
     "execution_count": 41,
     "metadata": {},
     "output_type": "execute_result"
    }
   ],
   "source": [
    "# Part 1\n",
    "len([s for s in df if (re.search(r'([aeuio].*){3,}',s) and\n",
    "                     re.search(r'([a-zA-Z])\\1',s) and\n",
    "                     not re.search(r'ab|cd|pq|xy', s))])"
   ]
  },
  {
   "cell_type": "code",
   "execution_count": 42,
   "id": "9a2cc2bf-d856-43be-90de-b89c479a72e5",
   "metadata": {},
   "outputs": [
    {
     "data": {
      "text/plain": [
       "69"
      ]
     },
     "execution_count": 42,
     "metadata": {},
     "output_type": "execute_result"
    }
   ],
   "source": [
    "# Part 2\n",
    "len([s for s in df if (re.search(r'(..).*\\1', s) and\n",
    "                       re.search(r'(.).\\1', s))])"
   ]
  }
 ],
 "metadata": {
  "kernelspec": {
   "display_name": "advent-of-code",
   "language": "python",
   "name": "aoc"
  },
  "language_info": {
   "codemirror_mode": {
    "name": "ipython",
    "version": 3
   },
   "file_extension": ".py",
   "mimetype": "text/x-python",
   "name": "python",
   "nbconvert_exporter": "python",
   "pygments_lexer": "ipython3",
   "version": "3.9.6"
  }
 },
 "nbformat": 4,
 "nbformat_minor": 5
}
