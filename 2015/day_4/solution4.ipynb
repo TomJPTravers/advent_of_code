{
 "cells": [
  {
   "cell_type": "code",
   "execution_count": 3,
   "id": "658b8b4f-4a7f-44a1-b86b-24692e05a48f",
   "metadata": {},
   "outputs": [],
   "source": [
    "import hashlib"
   ]
  },
  {
   "cell_type": "code",
   "execution_count": 4,
   "id": "48d85064-0fde-4a7d-a322-14ca355854fc",
   "metadata": {},
   "outputs": [],
   "source": [
    "def find_number(key, search):\n",
    "    for i in range(100000000):\n",
    "        code = hashlib.md5((key+str(i)).encode()).hexdigest()\n",
    "        if code[:len(search)] == search:\n",
    "            break\n",
    "    return i"
   ]
  },
  {
   "cell_type": "code",
   "execution_count": 5,
   "id": "9d91e819-4fca-4a28-95ec-4555f0e30616",
   "metadata": {},
   "outputs": [
    {
     "data": {
      "text/plain": [
       "254575"
      ]
     },
     "execution_count": 5,
     "metadata": {},
     "output_type": "execute_result"
    }
   ],
   "source": [
    "# Part 1\n",
    "input = 'bgvyzdsv'\n",
    "find_number(input, '00000')"
   ]
  },
  {
   "cell_type": "code",
   "execution_count": 6,
   "id": "36e10d8c-af9f-4d00-a6a0-3b20833f6e7d",
   "metadata": {},
   "outputs": [
    {
     "data": {
      "text/plain": [
       "1038736"
      ]
     },
     "execution_count": 6,
     "metadata": {},
     "output_type": "execute_result"
    }
   ],
   "source": [
    "# Part 2\n",
    "find_number(input, '000000')"
   ]
  }
 ],
 "metadata": {
  "kernelspec": {
   "display_name": "advent-of-code",
   "language": "python",
   "name": "aoc"
  },
  "language_info": {
   "codemirror_mode": {
    "name": "ipython",
    "version": 3
   },
   "file_extension": ".py",
   "mimetype": "text/x-python",
   "name": "python",
   "nbconvert_exporter": "python",
   "pygments_lexer": "ipython3",
   "version": "3.9.6"
  }
 },
 "nbformat": 4,
 "nbformat_minor": 5
}
