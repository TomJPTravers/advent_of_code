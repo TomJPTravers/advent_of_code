{
 "cells": [
  {
   "cell_type": "code",
   "execution_count": 1,
   "id": "658b8b4f-4a7f-44a1-b86b-24692e05a48f",
   "metadata": {},
   "outputs": [],
   "source": [
    "import hashlib"
   ]
  },
  {
   "cell_type": "code",
   "execution_count": 22,
   "id": "48d85064-0fde-4a7d-a322-14ca355854fc",
   "metadata": {},
   "outputs": [],
   "source": [
    "def find_number(key, search):\n",
    "    for i in range(100000000):\n",
    "        code = hashlib.md5((key+str(i)).encode()).hexdigest()\n",
    "        if code[:len] == search:\n",
    "            break\n",
    "    return i"
   ]
  },
  {
   "cell_type": "code",
   "execution_count": 23,
   "id": "9d91e819-4fca-4a28-95ec-4555f0e30616",
   "metadata": {},
   "outputs": [
    {
     "data": {
      "text/plain": [
       "254575"
      ]
     },
     "execution_count": 23,
     "metadata": {},
     "output_type": "execute_result"
    }
   ],
   "source": [
    "find_number(input, '00000')"
   ]
  },
  {
   "cell_type": "code",
   "execution_count": 14,
   "id": "e5f6799c-7056-45a4-adbe-e1a2539595d1",
   "metadata": {},
   "outputs": [
    {
     "name": "stdout",
     "output_type": "stream",
     "text": [
      "254575\n"
     ]
    }
   ],
   "source": [
    "# Part 1\n",
    "input = 'bgvyzdsv'\n",
    "\n",
    "for i in range(1000000):\n",
    "    code = hashlib.md5((input+str(i)).encode()).hexdigest()\n",
    "    if code[:5)] == '00000':\n",
    "        print(i)\n",
    "        break"
   ]
  },
  {
   "cell_type": "code",
   "execution_count": 18,
   "id": "03d030d7-6ee0-4f13-bfe9-5af7570c3a2e",
   "metadata": {},
   "outputs": [
    {
     "name": "stdout",
     "output_type": "stream",
     "text": [
      "1038736\n"
     ]
    }
   ],
   "source": [
    "# Part 2\n",
    "for i in range(10000000):\n",
    "    code = hashlib.md5((input+str(i)).encode()).hexdigest()\n",
    "    if code[:6] == '000000':\n",
    "        print(i)\n",
    "        break"
   ]
  },
  {
   "cell_type": "code",
   "execution_count": 24,
   "id": "75c6985d-6091-4636-8918-771706792318",
   "metadata": {},
   "outputs": [
    {
     "data": {
      "text/plain": [
       "8"
      ]
     },
     "execution_count": 24,
     "metadata": {},
     "output_type": "execute_result"
    }
   ],
   "source": [
    "len(input)"
   ]
  }
 ],
 "metadata": {
  "kernelspec": {
   "display_name": "advent-of-code",
   "language": "python",
   "name": "aoc"
  },
  "language_info": {
   "codemirror_mode": {
    "name": "ipython",
    "version": 3
   },
   "file_extension": ".py",
   "mimetype": "text/x-python",
   "name": "python",
   "nbconvert_exporter": "python",
   "pygments_lexer": "ipython3",
   "version": "3.9.6"
  }
 },
 "nbformat": 4,
 "nbformat_minor": 5
}
