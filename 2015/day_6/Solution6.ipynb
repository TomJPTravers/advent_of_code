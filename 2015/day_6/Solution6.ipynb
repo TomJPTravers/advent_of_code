{
 "cells": [
  {
   "cell_type": "code",
   "execution_count": 47,
   "id": "a4cab35d-93da-4f5e-9c25-5677fc3085f5",
   "metadata": {},
   "outputs": [],
   "source": [
    "import re\n",
    "import numpy as np"
   ]
  },
  {
   "cell_type": "code",
   "execution_count": 55,
   "id": "80b82330-4b9b-4bb6-bf08-6cdee5db9b79",
   "metadata": {},
   "outputs": [],
   "source": [
    "df = open('data.txt').read().splitlines()"
   ]
  },
  {
   "cell_type": "code",
   "execution_count": 60,
   "id": "a64e994c-c62e-401f-9f6f-025a6006d9c0",
   "metadata": {},
   "outputs": [],
   "source": [
    "def control(text, lights):\n",
    "    instruction = re.findall(r'turn on|turn off|toggle', text)\n",
    "    x1, y1, x2, y2 = list(map(int, re.findall(r'\\d+', text)))\n",
    "    \n",
    "    if instruction == ['turn on']:\n",
    "        for x in range(x1, x2 + 1):\n",
    "            for y in range(y1, y2 + 1):\n",
    "                lights[x][y] = 1\n",
    "    elif instruction == ['turn off']:\n",
    "        for x in range(x1, x2 + 1):\n",
    "            for y in range(y1, y2 + 1):\n",
    "                lights[x][y] = 0\n",
    "    elif instruction == ['toggle']:\n",
    "        for x in range(x1, x2 + 1):\n",
    "            for y in range(y1, y2 + 1):\n",
    "                lights[x][y] = 1 - lights[x][y]\n",
    "                \n",
    "    return lights  \n",
    "\n",
    "def control2(text, lights):\n",
    "    instruction = re.findall(r'turn on|turn off|toggle', text)\n",
    "    x1, y1, x2, y2 = list(map(int, re.findall(r'\\d+', text)))\n",
    "    \n",
    "    if instruction == ['turn on']:\n",
    "        for x in range(x1, x2 + 1):\n",
    "            for y in range(y1, y2 + 1):\n",
    "                lights[x][y] = lights[x][y] + 1\n",
    "    elif instruction == ['turn off']:\n",
    "        for x in range(x1, x2 + 1):\n",
    "            for y in range(y1, y2 + 1):\n",
    "                if lights[x][y] > 0:\n",
    "                    lights[x][y] = lights[x][y] - 1\n",
    "    elif instruction == ['toggle']:\n",
    "        for x in range(x1, x2 + 1):\n",
    "            for y in range(y1, y2 + 1):\n",
    "                lights[x][y] = lights[x][y] + 2\n",
    "                \n",
    "    return lights  "
   ]
  },
  {
   "cell_type": "code",
   "execution_count": 63,
   "id": "f9028ad4-88a2-42ee-8022-b2d1e45f55ec",
   "metadata": {},
   "outputs": [
    {
     "data": {
      "text/plain": [
       "np.int64(377891)"
      ]
     },
     "execution_count": 63,
     "metadata": {},
     "output_type": "execute_result"
    }
   ],
   "source": [
    "# Part 1\n",
    "lights = [[0 for col in range(1000)] for row in range(1000)]\n",
    "for i in df:\n",
    "    lights = control(i, lights)\n",
    "np.sum(lights)"
   ]
  },
  {
   "cell_type": "code",
   "execution_count": 64,
   "id": "6ab29741-6377-4acf-adb9-f3ed284eab9d",
   "metadata": {},
   "outputs": [
    {
     "data": {
      "text/plain": [
       "np.int64(14110788)"
      ]
     },
     "execution_count": 64,
     "metadata": {},
     "output_type": "execute_result"
    }
   ],
   "source": [
    "# Part 2\n",
    "lights = [[0 for col in range(1000)] for row in range(1000)]\n",
    "for i in df:\n",
    "    lights = control2(i, lights)\n",
    "np.sum(lights)"
   ]
  }
 ],
 "metadata": {
  "kernelspec": {
   "display_name": "advent-of-code",
   "language": "python",
   "name": "aoc"
  },
  "language_info": {
   "codemirror_mode": {
    "name": "ipython",
    "version": 3
   },
   "file_extension": ".py",
   "mimetype": "text/x-python",
   "name": "python",
   "nbconvert_exporter": "python",
   "pygments_lexer": "ipython3",
   "version": "3.9.6"
  }
 },
 "nbformat": 4,
 "nbformat_minor": 5
}
