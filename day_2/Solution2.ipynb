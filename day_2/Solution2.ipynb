{
 "cells": [
  {
   "cell_type": "markdown",
   "id": "0a69934d-a848-46bc-b8bc-702338ccb772",
   "metadata": {},
   "source": [
    "Had to completely change my approach to part 1 when I got to part 2 - the ugly ifelse statement I'd written was hindering more than helping. "
   ]
  },
  {
   "cell_type": "code",
   "execution_count": null,
   "id": "48280a92-1c54-4db8-91a3-d95d84b7df82",
   "metadata": {},
   "outputs": [],
   "source": [
    "# load data \n",
    "df = [list(map(int, l.split())) for l in open(\"input2.txt\").read().splitlines()]"
   ]
  },
  {
   "cell_type": "code",
   "execution_count": 2,
   "id": "6b985cf2-8bfa-421a-a2ad-cf70f244d2d4",
   "metadata": {},
   "outputs": [
    {
     "name": "stdout",
     "output_type": "stream",
     "text": [
      "Part 1 Answer: 402\n"
     ]
    }
   ],
   "source": [
    "# Part 1 \n",
    "def check_safety(line):\n",
    "    line_pairs = [(i,j) for i,j in zip(line, line[1:])]\n",
    "    increasing = [i < j for i,j in line_pairs]\n",
    "    decreasing = [i > j for i,j in line_pairs]\n",
    "    in_tolerance = [1 <= abs(i-j) <= 3 for i,j in line_pairs]\n",
    "\n",
    "    return (all(increasing) or all(decreasing)) and all(in_tolerance)\n",
    "\n",
    "safe = sum(check_safety(line) for line in df)\n",
    "print(f'Part 1 Answer: {safe}')"
   ]
  },
  {
   "cell_type": "code",
   "execution_count": 3,
   "id": "03fcb634-0835-46a8-abc4-f2d17fe30eb8",
   "metadata": {},
   "outputs": [
    {
     "name": "stdout",
     "output_type": "stream",
     "text": [
      "Part 2 Answer: 455\n"
     ]
    }
   ],
   "source": [
    "# Part 2 \n",
    "def safety_fix(line):\n",
    "    passes = 0\n",
    "    for i in range(len(line)):\n",
    "        subline = line[0:i] + line[i+1:]\n",
    "        if check_safety(subline):\n",
    "            passes += 1\n",
    "    return passes > 0\n",
    "\n",
    "fails = [line for line in df if not check_safety(line)]\n",
    "\n",
    "# part 2\n",
    "new_safe = sum(safety_fix(line) for line in fails) + safe\n",
    "print(f'Part 2 Answer: {new_safe}')"
   ]
  }
 ],
 "metadata": {
  "kernelspec": {
   "display_name": "AoC",
   "language": "python",
   "name": "advent-of-code"
  },
  "language_info": {
   "codemirror_mode": {
    "name": "ipython",
    "version": 3
   },
   "file_extension": ".py",
   "mimetype": "text/x-python",
   "name": "python",
   "nbconvert_exporter": "python",
   "pygments_lexer": "ipython3",
   "version": "3.9.6"
  }
 },
 "nbformat": 4,
 "nbformat_minor": 5
}
