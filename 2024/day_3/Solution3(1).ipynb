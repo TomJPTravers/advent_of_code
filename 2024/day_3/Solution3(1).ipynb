{
 "cells": [
  {
   "cell_type": "code",
   "execution_count": 3,
   "id": "3835046f-4f30-4175-8f51-eab043408fe5",
   "metadata": {},
   "outputs": [],
   "source": [
    "import re"
   ]
  },
  {
   "cell_type": "code",
   "execution_count": 83,
   "id": "3a5626dc-3ac1-4c11-b85a-2dfdfdf5be22",
   "metadata": {},
   "outputs": [],
   "source": [
    "df = open('data.txt').read()\n",
    "\n",
    "def calc_mul(text):\n",
    "    muls = re.findall(r'mul\\((\\d{1,3}),\\s?(\\d{1,3})\\)', text)\n",
    "    digits = [list(map(int, i)) for i in muls]\n",
    "    n = sum(a*b for a,b in digits)\n",
    "    \n",
    "    return n"
   ]
  },
  {
   "cell_type": "code",
   "execution_count": 84,
   "id": "f5a83832-1096-42ed-a287-8e0adafea5a3",
   "metadata": {},
   "outputs": [
    {
     "name": "stdout",
     "output_type": "stream",
     "text": [
      "Part 1 Answer:  169021493\n"
     ]
    }
   ],
   "source": [
    "# Part 1\n",
    "n = calc_mul(df)\n",
    "print(f'Part 1 Answer:  {n}')"
   ]
  },
  {
   "cell_type": "code",
   "execution_count": 87,
   "id": "286357bc-c4cf-4e98-965a-535e3ff900a7",
   "metadata": {},
   "outputs": [
    {
     "name": "stdout",
     "output_type": "stream",
     "text": [
      "Part 2 Answer:  111762583\n"
     ]
    }
   ],
   "source": [
    "# Part 2\n",
    "split_text = re.split(r\"(don't\\(\\)|do\\(\\))\", df)\n",
    "text = split_text[0::2]\n",
    "instructions = split_text[1::2]\n",
    "instructions.insert(0, 'do()')\n",
    "keep = [i for i, j in enumerate(instructions) if j == 'do()']\n",
    "keep_text = [text[i] for i in keep]\n",
    "\n",
    "n = calc_mul(''.join(keep_text))\n",
    "print(f'Part 2 Answer:  {n}')"
   ]
  }
 ],
 "metadata": {
  "kernelspec": {
   "display_name": "advent-of-code",
   "language": "python",
   "name": "aoc"
  },
  "language_info": {
   "codemirror_mode": {
    "name": "ipython",
    "version": 3
   },
   "file_extension": ".py",
   "mimetype": "text/x-python",
   "name": "python",
   "nbconvert_exporter": "python",
   "pygments_lexer": "ipython3",
   "version": "3.9.6"
  }
 },
 "nbformat": 4,
 "nbformat_minor": 5
}
