{
 "cells": [
  {
   "cell_type": "code",
   "execution_count": 43,
   "id": "b7de2abb-a8ae-40ce-bb6b-6cbae122bdb5",
   "metadata": {},
   "outputs": [],
   "source": [
    "def load_data(d):\n",
    "    area = {}\n",
    "    for y, line in enumerate(reversed(d.splitlines())):\n",
    "        for x, p in enumerate(line):\n",
    "            if p in ['^', '>', 'v', '<']:\n",
    "                position = (x, y)\n",
    "                symb = p\n",
    "            area[x,y] = p\n",
    "            \n",
    "    return position, symb, area\n",
    "\n",
    "N = (0, 1)\n",
    "E = (1, 0)\n",
    "S = (0, -1)\n",
    "W = (-1, 0)\n",
    "\n",
    "direction = {'^': N, '>': E, 'v': S, '<': W}\n",
    "turn = {N: E, E: S, S: W, W: N}"
   ]
  },
  {
   "cell_type": "code",
   "execution_count": 44,
   "id": "f3c65753-d65d-4546-b67d-14fac997b5a3",
   "metadata": {},
   "outputs": [
    {
     "name": "stdout",
     "output_type": "stream",
     "text": [
      "Guard visited 4778 squares\n"
     ]
    }
   ],
   "source": [
    "# Part 1\n",
    "df = open('data.txt').read()\n",
    "position, symbol, lab = load_data(df)\n",
    "start = position\n",
    "\n",
    "heading = direction[symbol]\n",
    "visited = {position}\n",
    "while tuple(map(lambda i, j: i + j, position, heading)) in lab:\n",
    "    if lab[tuple(map(lambda i, j: i + j, position, heading))] == '#':\n",
    "        heading = turn[heading]\n",
    "    else:\n",
    "        position = tuple(map(lambda i, j: i + j, position, heading))\n",
    "        visited.add(position)\n",
    "\n",
    "print(f'Guard visited {len(visited)} squares')"
   ]
  },
  {
   "cell_type": "code",
   "execution_count": null,
   "id": "95c18037-cf6b-4d4a-801c-4e26b50e7ecf",
   "metadata": {},
   "outputs": [],
   "source": [
    "# Part 2\n",
    "visited.remove(start)\n",
    "n = 0\n",
    "\n",
    "for i in visited:\n",
    "    print(f\"Testing blocked position: {i}\")\n",
    "    lab_2 = lab.copy()  \n",
    "    lab_2[i] = '#'\n",
    "    heading = direction[symbol]\n",
    "    position = start\n",
    "    visited_2 = []\n",
    "\n",
    "    loop = False\n",
    "    while tuple(map(lambda a, b: a + b, position, heading)) in lab_2:\n",
    "        next_pos = tuple(map(lambda a, b: a + b, position, heading))\n",
    "        \n",
    "        if lab_2[next_pos] == '#':\n",
    "            heading = turn[heading]\n",
    "        else:\n",
    "            if position in visited_2: \n",
    "                index = visited_2.index(position)\n",
    "                if index + 1 < len(visited_2) and visited_2[index + 1] == next_pos:\n",
    "                    print(f\" Loop detected!\")\n",
    "                    loop = True\n",
    "                    break\n",
    "            position = next_pos\n",
    "            visited_2.append(position)\n",
    "\n",
    "    if loop:\n",
    "        n += 1\n",
    "\n",
    "print(f\"Total positions causing loops: {n}\")"
   ]
  }
 ],
 "metadata": {
  "kernelspec": {
   "display_name": "advent-of-code",
   "language": "python",
   "name": "aoc"
  },
  "language_info": {
   "codemirror_mode": {
    "name": "ipython",
    "version": 3
   },
   "file_extension": ".py",
   "mimetype": "text/x-python",
   "name": "python",
   "nbconvert_exporter": "python",
   "pygments_lexer": "ipython3",
   "version": "3.9.6"
  }
 },
 "nbformat": 4,
 "nbformat_minor": 5
}
