{
 "cells": [
  {
   "cell_type": "code",
   "execution_count": 3,
   "id": "f496e863-bb61-4f7d-a089-5240a0fcb7f0",
   "metadata": {},
   "outputs": [],
   "source": [
    "# load data\n",
    "l = []\n",
    "r = []\n",
    "for x, y in [l.split() for l in open('input.txt').read().splitlines()]:\n",
        "l.append(int(x))\n",
        "r.append(int(y))"
   ]
  },
  {
   "cell_type": "code",
   "execution_count": 4,
   "id": "9befc489-5c07-4f09-9c24-1c91611f8977",
   "metadata": {},
   "outputs": [
    {
     "name": "stdout",
     "output_type": "stream",
     "text": [
      "Part 1 Answer: 3508942\n"
     ]
    }
   ],
   "source": [
    "# Part 1\n",
    "x = zip(sorted(l), sorted(r))\n",
    "diff = sum(abs(z-y) for z,y in x)\n",
    "print(f'Part 1 Answer: {diff}')"
   ]
  },
  {
   "cell_type": "code",
   "execution_count": 5,
   "id": "7687f1d1-29db-4a53-879a-44d971b1967c",
   "metadata": {},
   "outputs": [
    {
     "name": "stdout",
     "output_type": "stream",
     "text": [
      "Part 2 Answer: 26593248\n"
     ]
    }
   ],
   "source": [
    "# Part 2\n",
    "sim_score = sum(x*r.count(x) for x in l)\n",
    "print(f'Part 2 Answer: {sim_score}')"
   ]
  }
 ],
 "metadata": {
  "kernelspec": {
   "display_name": "AoC",
   "language": "python",
   "name": "advent-of-code"
  },
  "language_info": {
   "codemirror_mode": {
    "name": "ipython",
    "version": 3
   },
   "file_extension": ".py",
   "mimetype": "text/x-python",
   "name": "python",
   "nbconvert_exporter": "python",
   "pygments_lexer": "ipython3",
   "version": "3.9.6"
  }
 },
 "nbformat": 4,
 "nbformat_minor": 5
}
