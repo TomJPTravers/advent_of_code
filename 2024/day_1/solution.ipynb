{
 "cells": [
  {
   "cell_type": "code",
   "execution_count": 1,
   "id": "057fec59-872e-4eab-b76d-2b885d3cb4d5",
   "metadata": {},
   "outputs": [],
   "source": [
    "import pandas as pd"
   ]
  },
  {
   "cell_type": "code",
   "execution_count": 3,
   "id": "f496e863-bb61-4f7d-a089-5240a0fcb7f0",
   "metadata": {},
   "outputs": [],
   "source": [
    "# load data - remove columns related to spaces\n",
    "df = pd.read_csv('input.txt', sep = ' ', header = None)\n",
    "l = df.loc[:,0].tolist()\n",
    "r = df.loc[:,3].tolist()"
   ]
  },
  {
   "cell_type": "code",
   "execution_count": 4,
   "id": "9befc489-5c07-4f09-9c24-1c91611f8977",
   "metadata": {},
   "outputs": [
    {
     "name": "stdout",
     "output_type": "stream",
     "text": [
      "Part 1 Answer: 3508942\n"
     ]
    }
   ],
   "source": [
    "# Part 1\n",
    "x = zip(sorted(l), sorted(r))\n",
    "diff = sum(abs(z-y) for z,y in x)\n",
    "print(f'Part 1 Answer: {diff}')"
   ]
  },
  {
   "cell_type": "code",
   "execution_count": 5,
   "id": "7687f1d1-29db-4a53-879a-44d971b1967c",
   "metadata": {},
   "outputs": [
    {
     "name": "stdout",
     "output_type": "stream",
     "text": [
      "Part 2 Answer: 26593248\n"
     ]
    }
   ],
   "source": [
    "# Part 2\n",
    "sim_score = sum(x*r.count(x) for x in l)\n",
    "print(f'Part 2 Answer: {sim_score}')"
   ]
  }
 ],
 "metadata": {
  "kernelspec": {
   "display_name": "AoC",
   "language": "python",
   "name": "advent-of-code"
  },
  "language_info": {
   "codemirror_mode": {
    "name": "ipython",
    "version": 3
   },
   "file_extension": ".py",
   "mimetype": "text/x-python",
   "name": "python",
   "nbconvert_exporter": "python",
   "pygments_lexer": "ipython3",
   "version": "3.9.6"
  }
 },
 "nbformat": 4,
 "nbformat_minor": 5
}
