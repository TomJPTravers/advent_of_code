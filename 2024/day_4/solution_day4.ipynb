{
 "cells": [
  {
   "cell_type": "code",
   "execution_count": 1,
   "id": "269f88c0-639d-44f4-8d98-6b074be23cf7",
   "metadata": {},
   "outputs": [],
   "source": [
    "import re\n",
    "import numpy as np"
   ]
  },
  {
   "cell_type": "code",
   "execution_count": 2,
   "id": "5ee36a03-1f16-43c6-b92b-e88a77c54da7",
   "metadata": {},
   "outputs": [
    {
     "name": "stdout",
     "output_type": "stream",
     "text": [
      "Part 1 Answer: 2344\n"
     ]
    }
   ],
   "source": [
    "# Part 1\n",
    "df = [list(line) for line in open('data.txt').read().splitlines()]\n",
    "matrix = np.array(df)\n",
    "\n",
    "diags = [''.join(np.diagonal(matrix, offset = i).tolist()) for i in range(-139, 140)]\n",
    "diags.extend([''.join(np.fliplr(matrix).diagonal(offset = i).tolist()) for i in range(-139, 140)])\n",
    "\n",
    "lines = open('data.txt').read().splitlines()\n",
    "cols = [''.join(matrix[:,c].tolist()) for c in range(matrix.shape[1])]\n",
    "\n",
    "a = diags + lines + cols\n",
    "\n",
    "n = 0\n",
    "for i in a:\n",
    "    x = len(re.findall(r'(?=(XMAS|SAMX))', i))\n",
    "    n += x\n",
    "    \n",
    "print(f'Part 1 Answer: {n}')"
   ]
  },
  {
   "cell_type": "code",
   "execution_count": 3,
   "id": "c0a3e2cf-e840-4e8b-839f-3a35ab4703a4",
   "metadata": {},
   "outputs": [
    {
     "name": "stdout",
     "output_type": "stream",
     "text": [
      "Part 2 Answer: 1815\n"
     ]
    }
   ],
   "source": [
    "n = 0\n",
    "\n",
    "gx, gy = matrix.shape\n",
    "for i in range(gx - 3 + 1):\n",
    "    for j in range(gy - 3 + 1):\n",
    "        subgrid = matrix[i:i+3, j:j+3]\n",
    "        x = ''.join(np.diagonal(subgrid))\n",
    "        y = ''.join(np.fliplr(subgrid).diagonal())\n",
    "        if len(re.findall(r'SAM|MAS', x)) & len(re.findall(r'SAM|MAS', y)) > 0:\n",
    "            n += 1\n",
    "            \n",
    "print(f'Part 2 Answer: {n}')"
   ]
  }
 ],
 "metadata": {
  "kernelspec": {
   "display_name": "advent-of-code",
   "language": "python",
   "name": "aoc"
  },
  "language_info": {
   "codemirror_mode": {
    "name": "ipython",
    "version": 3
   },
   "file_extension": ".py",
   "mimetype": "text/x-python",
   "name": "python",
   "nbconvert_exporter": "python",
   "pygments_lexer": "ipython3",
   "version": "3.9.6"
  }
 },
 "nbformat": 4,
 "nbformat_minor": 5
}
