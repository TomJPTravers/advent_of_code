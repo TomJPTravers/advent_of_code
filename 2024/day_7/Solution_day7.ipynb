{
 "cells": [
  {
   "cell_type": "code",
   "execution_count": 1,
   "id": "279609e1-414f-49ab-8868-7ca940af6998",
   "metadata": {},
   "outputs": [],
   "source": [
    "from itertools import product"
   ]
  },
  {
   "cell_type": "code",
   "execution_count": 2,
   "id": "55a8c9d3-7811-4064-8ff2-f3c9869db569",
   "metadata": {},
   "outputs": [],
   "source": [
    "test = '''190: 10 19\n",
    "3267: 81 40 27\n",
    "83: 17 5\n",
    "156: 15 6\n",
    "7290: 6 8 6 15\n",
    "161011: 16 10 13\n",
    "192: 17 8 14\n",
    "21037: 9 7 18 13\n",
    "292: 11 6 16 20'''"
   ]
  },
  {
   "cell_type": "code",
   "execution_count": 3,
   "id": "4683bb3f-e503-4657-9514-9ce8839efd63",
   "metadata": {},
   "outputs": [],
   "source": [
    "def load_data(dat):\n",
    "    df = []\n",
    "    for l in dat.splitlines():\n",
    "        a,b = l.split(':')\n",
    "        b = [int(i) for i in b.strip().split()]\n",
    "        df.append((int(a), b))\n",
    "    return df"
   ]
  },
  {
   "cell_type": "code",
   "execution_count": null,
   "id": "ef274b7d-0ce9-4baa-a906-0518ed4a0057",
   "metadata": {},
   "outputs": [],
   "source": [
    "def sum_combos(target, nums, operators):\n",
    "    n_ops = len(nums) - 1\n",
    "    op_combs = product(operators, repeat=n_ops)\n",
    "    \n",
    "    result = False\n",
    "    for op_combo in op_combs:\n",
    "        expression = str(nums[0])\n",
    "        for num, op in zip(nums[1:], op_combo):\n",
    "            if op == 'concat':\n",
    "                # Explicitly convert both to strings\n",
    "                expression = eval(f'str({expression}) + str({num})')\n",
    "            else:\n",
    "                expression = f'({expression} {op} {num})'\n",
    "        if eval(expression) == target:\n",
    "            result = True\n",
    "            break\n",
    "    \n",
    "    return result"
   ]
  },
  {
   "cell_type": "code",
   "execution_count": 23,
   "id": "c2bdba31-8b24-4761-99d8-2ce4a02ad28b",
   "metadata": {},
   "outputs": [],
   "source": [
    "# Test\n",
    "test_data = load_data(test)\n",
    "\n",
    "operators = ['+', '*']\n",
    "assert sum(i[0] for i in test_data if sum_combos(i[0], i[1], operators)) ==  3749"
   ]
  },
  {
   "cell_type": "code",
   "execution_count": 24,
   "id": "9c544067-8620-4b10-8d58-7b16ee571dab",
   "metadata": {},
   "outputs": [
    {
     "data": {
      "text/plain": [
       "3312271365652"
      ]
     },
     "execution_count": 24,
     "metadata": {},
     "output_type": "execute_result"
    }
   ],
   "source": [
    "# Prt 1\n",
    "operators = ['+', '*']\n",
    "data = load_data(open('data.txt').read())\n",
    "sum(i[0] for i in data if sum_combos(i[0], i[1], operators))"
   ]
  },
  {
   "cell_type": "code",
   "execution_count": 21,
   "id": "e7fba010-4919-41e8-8fca-d0c6a99b9913",
   "metadata": {},
   "outputs": [],
   "source": [
    "# Part 2 - test\n",
    "operators = ['+', '*', 'concat']\n",
    "assert sum(i[0] for i in test_data if sum_combos(i[0], i[1], operators)) == 11387"
   ]
  },
  {
   "cell_type": "code",
   "execution_count": 22,
   "id": "1b7d6dd5-c2fd-47c8-b7e0-d1de8b7c66b9",
   "metadata": {},
   "outputs": [
    {
     "data": {
      "text/plain": [
       "509463489296712"
      ]
     },
     "execution_count": 22,
     "metadata": {},
     "output_type": "execute_result"
    }
   ],
   "source": [
    "# Part 2\n",
    "operators = ['+', '*', 'concat']\n",
    "data = load_data(open('data.txt').read())\n",
    "sum(i[0] for i in data if sum_combos(i[0], i[1], operators))   "
   ]
  }
 ],
 "metadata": {
  "kernelspec": {
   "display_name": "advent-of-code",
   "language": "python",
   "name": "aoc"
  },
  "language_info": {
   "codemirror_mode": {
    "name": "ipython",
    "version": 3
   },
   "file_extension": ".py",
   "mimetype": "text/x-python",
   "name": "python",
   "nbconvert_exporter": "python",
   "pygments_lexer": "ipython3",
   "version": "3.9.6"
  }
 },
 "nbformat": 4,
 "nbformat_minor": 5
}
