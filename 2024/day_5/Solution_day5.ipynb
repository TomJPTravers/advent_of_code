{
 "cells": [
  {
   "cell_type": "code",
   "execution_count": 1,
   "id": "d788298c-5fcc-4815-81da-8486690d1bfd",
   "metadata": {},
   "outputs": [],
   "source": [
    "r, p = open('data.txt').read().split('\\n\\n')\n",
    "\n",
    "rules = []\n",
    "for l in r.splitlines():\n",
    "    a,b = l.split('|')\n",
    "    rules.append((int(a),int(b)))\n",
    "\n",
    "update = []\n",
    "for l in p.splitlines():\n",
    "    x = [int(a) for a in l.split(',')]\n",
    "    update.append(x)"
   ]
  },
  {
   "cell_type": "code",
   "execution_count": 2,
   "id": "f792a18f-d51f-4e10-9c8e-ae17f83b7b2b",
   "metadata": {},
   "outputs": [],
   "source": [
    "def find_middle(x):\n",
    "    return x[len(x) // 2]"
   ]
  },
  {
   "cell_type": "code",
   "execution_count": 3,
   "id": "d168254f-a56f-4540-a158-24a3b6d0a474",
   "metadata": {},
   "outputs": [],
   "source": [
    "# Part 1\n",
    "valid_updates = []\n",
    "non_valid_updates = []\n",
    "for i in update:\n",
    "    good = True\n",
    "    for j in i:\n",
    "        after = [a[1] for a in rules if a[0] == j]\n",
    "        before = [a[0] for a in rules if a[1] == j]\n",
    "        \n",
    "        bad_before = [a for a in i[i.index(j)+1:] if a in before]\n",
    "        bad_after = [a for a in i[:i.index(j)] if a in after]\n",
    "        if len(bad_before) or len(bad_after) > 0:\n",
    "            good = False\n",
    "            \n",
    "    if good:\n",
    "        valid_updates.append(i)\n",
    "    else:\n",
    "        non_valid_updates.append(i)"
   ]
  },
  {
   "cell_type": "code",
   "execution_count": 4,
   "id": "ab6da421-8a69-4859-b60a-ebd4b4897e56",
   "metadata": {},
   "outputs": [
    {
     "data": {
      "text/plain": [
       "5713"
      ]
     },
     "execution_count": 4,
     "metadata": {},
     "output_type": "execute_result"
    }
   ],
   "source": [
    "sum(find_middle(x) for x in valid_updates)"
   ]
  },
  {
   "cell_type": "code",
   "execution_count": 5,
   "id": "dde1ccef-850a-4444-b81f-ac16af5589f0",
   "metadata": {},
   "outputs": [],
   "source": [
    "# Part 2\n",
    "def bubble_sort(nums, rules):\n",
    "    n = len(nums)\n",
    "    rule_set = set(rules)\n",
    "\n",
    "    for i in range(n):\n",
    "        for j in range(n - 1):\n",
    "            if (nums[j], nums[j + 1]) in rule_set:\n",
    "                continue\n",
    "            elif (nums[j + 1], nums[j]) in rule_set:\n",
    "                nums[j], nums[j + 1] = nums[j + 1], nums[j]\n",
    "    \n",
    "    return nums"
   ]
  },
  {
   "cell_type": "code",
   "execution_count": 6,
   "id": "56046b35-86bc-4b93-b361-20ca22433aee",
   "metadata": {},
   "outputs": [
    {
     "data": {
      "text/plain": [
       "5180"
      ]
     },
     "execution_count": 6,
     "metadata": {},
     "output_type": "execute_result"
    }
   ],
   "source": [
    "x = [bubble_sort(i, rules) for i in non_valid_updates]\n",
    "sum(find_middle(i) for i in x)"
   ]
  }
 ],
 "metadata": {
  "kernelspec": {
   "display_name": "advent-of-code",
   "language": "python",
   "name": "aoc"
  },
  "language_info": {
   "codemirror_mode": {
    "name": "ipython",
    "version": 3
   },
   "file_extension": ".py",
   "mimetype": "text/x-python",
   "name": "python",
   "nbconvert_exporter": "python",
   "pygments_lexer": "ipython3",
   "version": "3.9.6"
  }
 },
 "nbformat": 4,
 "nbformat_minor": 5
}
